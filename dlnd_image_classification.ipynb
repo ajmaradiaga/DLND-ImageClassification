{
 "cells": [
  {
   "cell_type": "markdown",
   "metadata": {
    "collapsed": true
   },
   "source": [
    "# Image Classification\n",
    "In this project, you'll classify images from the [CIFAR-10 dataset](https://www.cs.toronto.edu/~kriz/cifar.html).  The dataset consists of airplanes, dogs, cats, and other objects. You'll preprocess the images, then train a convolutional neural network on all the samples. The images need to be normalized and the labels need to be one-hot encoded.  You'll get to apply what you learned and build a convolutional, max pooling, dropout, and fully connected layers.  At the end, you'll get to see your neural network's predictions on the sample images.\n",
    "## Get the Data\n",
    "Run the following cell to download the [CIFAR-10 dataset for python](https://www.cs.toronto.edu/~kriz/cifar-10-python.tar.gz)."
   ]
  },
  {
   "cell_type": "markdown",
   "metadata": {},
   "source": [
    "**Note:** If running locally, it might be required to run \n",
    "\n",
    "```\n",
    "pip install tqdm\n",
    "```"
   ]
  },
  {
   "cell_type": "code",
   "execution_count": 1,
   "metadata": {},
   "outputs": [],
   "source": [
    "#!pip install tqdm"
   ]
  },
  {
   "cell_type": "code",
   "execution_count": 2,
   "metadata": {},
   "outputs": [
    {
     "name": "stdout",
     "output_type": "stream",
     "text": [
      "All files found!\n"
     ]
    }
   ],
   "source": [
    "\"\"\"\n",
    "DON'T MODIFY ANYTHING IN THIS CELL THAT IS BELOW THIS LINE\n",
    "\"\"\"\n",
    "from urllib.request import urlretrieve\n",
    "from os.path import isfile, isdir\n",
    "from tqdm import tqdm\n",
    "import problem_unittests as tests\n",
    "import tarfile\n",
    "\n",
    "cifar10_dataset_folder_path = 'cifar-10-batches-py'\n",
    "\n",
    "# Use Floyd's cifar-10 dataset if present\n",
    "floyd_cifar10_location = '/input/cifar-10/python.tar.gz'\n",
    "if isfile(floyd_cifar10_location):\n",
    "    tar_gz_path = floyd_cifar10_location\n",
    "else:\n",
    "    tar_gz_path = 'cifar-10-python.tar.gz'\n",
    "\n",
    "class DLProgress(tqdm):\n",
    "    last_block = 0\n",
    "\n",
    "    def hook(self, block_num=1, block_size=1, total_size=None):\n",
    "        self.total = total_size\n",
    "        self.update((block_num - self.last_block) * block_size)\n",
    "        self.last_block = block_num\n",
    "\n",
    "if not isfile(tar_gz_path):\n",
    "    with DLProgress(unit='B', unit_scale=True, miniters=1, desc='CIFAR-10 Dataset') as pbar:\n",
    "        urlretrieve(\n",
    "            'https://www.cs.toronto.edu/~kriz/cifar-10-python.tar.gz',\n",
    "            tar_gz_path,\n",
    "            pbar.hook)\n",
    "\n",
    "if not isdir(cifar10_dataset_folder_path):\n",
    "    with tarfile.open(tar_gz_path) as tar:\n",
    "        tar.extractall()\n",
    "        tar.close()\n",
    "\n",
    "\n",
    "tests.test_folder_path(cifar10_dataset_folder_path)"
   ]
  },
  {
   "cell_type": "markdown",
   "metadata": {},
   "source": [
    "## Explore the Data\n",
    "The dataset is broken into batches to prevent your machine from running out of memory.  The CIFAR-10 dataset consists of 5 batches, named `data_batch_1`, `data_batch_2`, etc.. Each batch contains the labels and images that are one of the following:\n",
    "* airplane\n",
    "* automobile\n",
    "* bird\n",
    "* cat\n",
    "* deer\n",
    "* dog\n",
    "* frog\n",
    "* horse\n",
    "* ship\n",
    "* truck\n",
    "\n",
    "Understanding a dataset is part of making predictions on the data.  Play around with the code cell below by changing the `batch_id` and `sample_id`. The `batch_id` is the id for a batch (1-5). The `sample_id` is the id for a image and label pair in the batch.\n",
    "\n",
    "Ask yourself \"What are all possible labels?\", \"What is the range of values for the image data?\", \"Are the labels in order or random?\".  Answers to questions like these will help you preprocess the data and end up with better predictions."
   ]
  },
  {
   "cell_type": "code",
   "execution_count": 3,
   "metadata": {},
   "outputs": [
    {
     "name": "stdout",
     "output_type": "stream",
     "text": [
      "\n",
      "Stats of batch 2:\n",
      "Samples: 10000\n",
      "Label Counts: {0: 984, 1: 1007, 2: 1010, 3: 995, 4: 1010, 5: 988, 6: 1008, 7: 1026, 8: 987, 9: 985}\n",
      "First 20 Labels: [1, 6, 6, 8, 8, 3, 4, 6, 0, 6, 0, 3, 6, 6, 5, 4, 8, 3, 2, 6]\n",
      "\n",
      "Example of Image 10:\n",
      "Image - Min Value: 4 Max Value: 231\n",
      "Image - Shape: (32, 32, 3)\n",
      "Label - Label Id: 0 Name: airplane\n"
     ]
    },
    {
     "data": {
      "image/png": "[encoded data removed]",
      "text/plain": [
       "<matplotlib.figure.Figure at 0x7f9910f68cc0>"
      ]
     },
     "metadata": {
      "image/png": {
       "height": 250,
       "width": 253
      }
     },
     "output_type": "display_data"
    }
   ],
   "source": [
    "%matplotlib inline\n",
    "%config InlineBackend.figure_format = 'retina'\n",
    "\n",
    "import helper\n",
    "import numpy as np\n",
    "\n",
    "# Explore the dataset\n",
    "batch_id = 2\n",
    "sample_id = 10\n",
    "helper.display_stats(cifar10_dataset_folder_path, batch_id, sample_id)\n",
    "\n",
    "# View source code of helper.display_stats\n",
    "# helper.display_stats??"
   ]
  },
  {
   "cell_type": "markdown",
   "metadata": {},
   "source": [
    "## Implement Preprocess Functions\n",
    "### Normalize\n",
    "In the cell below, implement the `normalize` function to take in image data, `x`, and return it as a normalized Numpy array. The values should be in the range of 0 to 1, inclusive.  The return object should be the same shape as `x`."
   ]
  },
  {
   "cell_type": "code",
   "execution_count": 4,
   "metadata": {
    "collapsed": true
   },
   "outputs": [],
   "source": [
    "# Check the test_normalize method\n",
    "tests.test_normalize??"
   ]
  },
  {
   "cell_type": "code",
   "execution_count": 5,
   "metadata": {},
   "outputs": [
    {
     "name": "stderr",
     "output_type": "stream",
     "text": [
      "/home/antonio/anaconda3/lib/python3.6/site-packages/sklearn/utils/validation.py:429: DataConversionWarning: Data with input dtype int64 was converted to float64 by the normalize function.\n",
      "  warnings.warn(msg, _DataConversionWarning)\n"
     ]
    },
    {
     "name": "stdout",
     "output_type": "stream",
     "text": [
      "Tests Passed\n"
     ]
    }
   ],
   "source": [
    "from sklearn import preprocessing\n",
    "\n",
    "def normalize(x):\n",
    "    \"\"\"\n",
    "    Normalize a list of sample image data in the range of 0 to 1\n",
    "    : x: List of image data.  The image shape is (32, 32, 3)\n",
    "    : return: Numpy array of normalize data\n",
    "    \"\"\"\n",
    "    # print(\"normalize - Input array shape: {}\".format(np.array(x).shape))\n",
    "    \n",
    "    norm_x = np.array([[preprocessing.normalize(sub, norm='l2') for sub in item] for item in x])\n",
    "    \n",
    "    # print(\"normalize - Output array shape: {}\".format(norm_x.shape))\n",
    "    \n",
    "    return norm_x\n",
    "\n",
    "\n",
    "\"\"\"\n",
    "DON'T MODIFY ANYTHING IN THIS CELL THAT IS BELOW THIS LINE\n",
    "\"\"\"\n",
    "tests.test_normalize(normalize)\n",
    "\n"
   ]
  },
  {
   "cell_type": "markdown",
   "metadata": {},
   "source": [
    "### One-hot encode\n",
    "Just like the previous code cell, you'll be implementing a function for preprocessing.  This time, you'll implement the `one_hot_encode` function. The input, `x`, are a list of labels.  Implement the function to return the list of labels as One-Hot encoded Numpy array.  The possible values for labels are 0 to 9. The one-hot encoding function should return the same encoding for each value between each call to `one_hot_encode`.  Make sure to save the map of encodings outside the function.\n",
    "\n",
    "Hint: Don't reinvent the wheel."
   ]
  },
  {
   "cell_type": "code",
   "execution_count": 6,
   "metadata": {
    "collapsed": true
   },
   "outputs": [],
   "source": [
    "tests.test_one_hot_encode??"
   ]
  },
  {
   "cell_type": "code",
   "execution_count": 7,
   "metadata": {},
   "outputs": [
    {
     "name": "stdout",
     "output_type": "stream",
     "text": [
      "Tests Passed\n"
     ]
    }
   ],
   "source": [
    "def one_hot_encode(x):\n",
    "    \"\"\"\n",
    "    One hot encode a list of sample labels. Return a one-hot encoded vector for each label.\n",
    "    : x: List of sample Labels\n",
    "    : return: Numpy array of one-hot encoded labels\n",
    "    \"\"\"\n",
    "    label_binarizer = preprocessing.LabelBinarizer()\n",
    "    label_binarizer.fit(range(10))\n",
    "    \n",
    "    return label_binarizer.transform(x)\n",
    "\"\"\"\n",
    "DON'T MODIFY ANYTHING IN THIS CELL THAT IS BELOW THIS LINE\n",
    "\"\"\"\n",
    "tests.test_one_hot_encode(one_hot_encode)"
   ]
  },
  {
   "cell_type": "markdown",
   "metadata": {},
   "source": [
    "### Randomize Data\n",
    "As you saw from exploring the data above, the order of the samples are randomized.  It doesn't hurt to randomize it again, but you don't need to for this dataset."
   ]
  },
  {
   "cell_type": "markdown",
   "metadata": {},
   "source": [
    "## Preprocess all the data and save it\n",
    "Running the code cell below will preprocess all the CIFAR-10 data and save it to file. The code below also uses 10% of the training data for validation."
   ]
  },
  {
   "cell_type": "code",
   "execution_count": 8,
   "metadata": {},
   "outputs": [
    {
     "name": "stderr",
     "output_type": "stream",
     "text": [
      "/home/antonio/anaconda3/lib/python3.6/site-packages/sklearn/utils/validation.py:429: DataConversionWarning: Data with input dtype uint8 was converted to float64 by the normalize function.\n",
      "  warnings.warn(msg, _DataConversionWarning)\n"
     ]
    }
   ],
   "source": [
    "\"\"\"\n",
    "DON'T MODIFY ANYTHING IN THIS CELL\n",
    "\"\"\"\n",
    "# Preprocess Training, Validation, and Testing Data\n",
    "helper.preprocess_and_save_data(cifar10_dataset_folder_path, normalize, one_hot_encode)"
   ]
  },
  {
   "cell_type": "markdown",
   "metadata": {},
   "source": [
    "# Check Point\n",
    "This is your first checkpoint.  If you ever decide to come back to this notebook or have to restart the notebook, you can start from here.  The preprocessed data has been saved to disk."
   ]
  },
  {
   "cell_type": "code",
   "execution_count": 9,
   "metadata": {
    "collapsed": true
   },
   "outputs": [],
   "source": [
    "\"\"\"\n",
    "DON'T MODIFY ANYTHING IN THIS CELL\n",
    "\"\"\"\n",
    "import pickle\n",
    "import problem_unittests as tests\n",
    "import helper\n",
    "\n",
    "# Load the Preprocessed Validation data\n",
    "valid_features, valid_labels = pickle.load(open('preprocess_validation.p', mode='rb'))"
   ]
  },
  {
   "cell_type": "markdown",
   "metadata": {},
   "source": [
    "## Build the network\n",
    "For the neural network, you'll build each layer into a function.  Most of the code you've seen has been outside of functions. To test your code more thoroughly, we require that you put each layer in a function.  This allows us to give you better feedback and test for simple mistakes using our unittests before you submit your project.\n",
    "\n",
    ">**Note:** If you're finding it hard to dedicate enough time for this course each week, we've provided a small shortcut to this part of the project. In the next couple of problems, you'll have the option to use classes from the [TensorFlow Layers](https://www.tensorflow.org/api_docs/python/tf/layers) or [TensorFlow Layers (contrib)](https://www.tensorflow.org/api_guides/python/contrib.layers) packages to build each layer, except the layers you build in the \"Convolutional and Max Pooling Layer\" section.  TF Layers is similar to Keras's and TFLearn's abstraction to layers, so it's easy to pickup.\n",
    "\n",
    ">However, if you would like to get the most out of this course, try to solve all the problems _without_ using anything from the TF Layers packages. You **can** still use classes from other packages that happen to have the same name as ones you find in TF Layers! For example, instead of using the TF Layers version of the `conv2d` class, [tf.layers.conv2d](https://www.tensorflow.org/api_docs/python/tf/layers/conv2d), you would want to use the TF Neural Network version of `conv2d`, [tf.nn.conv2d](https://www.tensorflow.org/api_docs/python/tf/nn/conv2d). \n",
    "\n",
    "Let's begin!\n",
    "\n",
    "### Input\n",
    "The neural network needs to read the image data, one-hot encoded labels, and dropout keep probability. Implement the following functions\n",
    "* Implement `neural_net_image_input`\n",
    " * Return a [TF Placeholder](https://www.tensorflow.org/api_docs/python/tf/placeholder)\n",
    " * Set the shape using `image_shape` with batch size set to `None`.\n",
    " * Name the TensorFlow placeholder \"x\" using the TensorFlow `name` parameter in the [TF Placeholder](https://www.tensorflow.org/api_docs/python/tf/placeholder).\n",
    "* Implement `neural_net_label_input`\n",
    " * Return a [TF Placeholder](https://www.tensorflow.org/api_docs/python/tf/placeholder)\n",
    " * Set the shape using `n_classes` with batch size set to `None`.\n",
    " * Name the TensorFlow placeholder \"y\" using the TensorFlow `name` parameter in the [TF Placeholder](https://www.tensorflow.org/api_docs/python/tf/placeholder).\n",
    "* Implement `neural_net_keep_prob_input`\n",
    " * Return a [TF Placeholder](https://www.tensorflow.org/api_docs/python/tf/placeholder) for dropout keep probability.\n",
    " * Name the TensorFlow placeholder \"keep_prob\" using the TensorFlow `name` parameter in the [TF Placeholder](https://www.tensorflow.org/api_docs/python/tf/placeholder).\n",
    "\n",
    "These names will be used at the end of the project to load your saved model.\n",
    "\n",
    "Note: `None` for shapes in TensorFlow allow for a dynamic size."
   ]
  },
  {
   "cell_type": "code",
   "execution_count": 10,
   "metadata": {},
   "outputs": [
    {
     "name": "stdout",
     "output_type": "stream",
     "text": [
      "Image Input Tests Passed.\n",
      "Label Input Tests Passed.\n",
      "Keep Prob Tests Passed.\n"
     ]
    }
   ],
   "source": [
    "import tensorflow as tf\n",
    "\n",
    "def neural_net_image_input(image_shape):\n",
    "    \"\"\"\n",
    "    Return a Tensor for a batch of image input\n",
    "    : image_shape: Shape of the images\n",
    "    : return: Tensor for image input.\n",
    "    \"\"\"\n",
    "    return tf.placeholder(tf.float32, [None, image_shape[0], image_shape[1], image_shape[2]], name=\"x\")\n",
    "\n",
    "\n",
    "def neural_net_label_input(n_classes):\n",
    "    \"\"\"\n",
    "    Return a Tensor for a batch of label input\n",
    "    : n_classes: Number of classes\n",
    "    : return: Tensor for label input.\n",
    "    \"\"\"\n",
    "    return tf.placeholder(tf.float32, [None, n_classes], name=\"y\")\n",
    "\n",
    "\n",
    "def neural_net_keep_prob_input():\n",
    "    \"\"\"\n",
    "    Return a Tensor for keep probability\n",
    "    : return: Tensor for keep probability.\n",
    "    \"\"\"\n",
    "    return tf.placeholder(tf.float32, name=\"keep_prob\")\n",
    "\n",
    "\n",
    "\"\"\"\n",
    "DON'T MODIFY ANYTHING IN THIS CELL THAT IS BELOW THIS LINE\n",
    "\"\"\"\n",
    "tf.reset_default_graph()\n",
    "tests.test_nn_image_inputs(neural_net_image_input)\n",
    "tests.test_nn_label_inputs(neural_net_label_input)\n",
    "tests.test_nn_keep_prob_inputs(neural_net_keep_prob_input)"
   ]
  },
  {
   "cell_type": "markdown",
   "metadata": {},
   "source": [
    "### Convolution and Max Pooling Layer\n",
    "Convolution layers have a lot of success with images. For this code cell, you should implement the function `conv2d_maxpool` to apply convolution then max pooling:\n",
    "* Create the weight and bias using `conv_ksize`, `conv_num_outputs` and the shape of `x_tensor`.\n",
    "* Apply a convolution to `x_tensor` using weight and `conv_strides`.\n",
    " * We recommend you use same padding, but you're welcome to use any padding.\n",
    "* Add bias\n",
    "* Add a nonlinear activation to the convolution.\n",
    "* Apply Max Pooling using `pool_ksize` and `pool_strides`.\n",
    " * We recommend you use same padding, but you're welcome to use any padding.\n",
    "\n",
    "**Note:** You **can't** use [TensorFlow Layers](https://www.tensorflow.org/api_docs/python/tf/layers) or [TensorFlow Layers (contrib)](https://www.tensorflow.org/api_guides/python/contrib.layers) for **this** layer, but you can still use TensorFlow's [Neural Network](https://www.tensorflow.org/api_docs/python/tf/nn) package. You may still use the shortcut option for all the **other** layers."
   ]
  },
  {
   "cell_type": "code",
   "execution_count": 11,
   "metadata": {},
   "outputs": [
    {
     "name": "stdout",
     "output_type": "stream",
     "text": [
      "Tensor shape:  (?, 32, 32, 5)\n",
      "Tests Passed\n"
     ]
    }
   ],
   "source": [
    "def conv2d_maxpool(x_tensor, conv_num_outputs, conv_ksize, conv_strides, pool_ksize, pool_strides):\n",
    "    \"\"\"\n",
    "    Apply convolution then max pooling to x_tensor\n",
    "    :param x_tensor: TensorFlow Tensor\n",
    "    :param conv_num_outputs: Number of outputs for the convolutional layer\n",
    "    :param conv_ksize: kernal size 2-D Tuple for the convolutional layer\n",
    "    :param conv_strides: Stride 2-D Tuple for convolution\n",
    "    :param pool_ksize: kernal size 2-D Tuple for pool\n",
    "    :param pool_strides: Stride 2-D Tuple for pool\n",
    "    : return: A tensor that represents convolution and max pooling of x_tensor\n",
    "    \"\"\"\n",
    "    x_shape = x_tensor.get_shape().as_list()\n",
    "    \n",
    "    weights = tf.Variable(tf.truncated_normal([conv_ksize[0], conv_ksize[1], x_shape[3], conv_num_outputs], stddev=0.05))\n",
    "    biases = tf.Variable(tf.truncated_normal([conv_num_outputs], stddev=0.05))\n",
    "    \n",
    "    print(\"Tensor shape: \", x_tensor.shape)\n",
    "    # print(\"Convolution outputs: \", conv_num_outputs)\n",
    "    # print(\"Conv - ksize: {} and strides: {}\".format(conv_ksize, conv_strides))\n",
    "    # print(\"Pool - ksize: {} and strides: {}\".format(pool_ksize, pool_strides))\n",
    "    \n",
    "    conv_layer = tf.nn.conv2d(x_tensor, weights, strides=[1, conv_strides[0], conv_strides[1], 1], padding=\"SAME\", name=\"conv_layer\")\n",
    "    conv_layer = tf.nn.bias_add(conv_layer, biases, name=\"add_bias\")\n",
    "    conv_layer = tf.nn.relu(conv_layer, name=\"conv_relu\")\n",
    "    conv_max = tf.nn.max_pool(conv_layer, ksize=[1, pool_ksize[0], pool_ksize[1], 1], strides=[1, pool_strides[0], pool_strides[1], 1],padding=\"SAME\", name=\"conv_max\")\n",
    "    \n",
    "    return conv_max\n",
    "\n",
    "\n",
    "\"\"\"\n",
    "DON'T MODIFY ANYTHING IN THIS CELL THAT IS BELOW THIS LINE\n",
    "\"\"\"\n",
    "tests.test_con_pool(conv2d_maxpool)"
   ]
  },
  {
   "cell_type": "markdown",
   "metadata": {},
   "source": [
    "### Flatten Layer\n",
    "Implement the `flatten` function to change the dimension of `x_tensor` from a 4-D tensor to a 2-D tensor.  The output should be the shape (*Batch Size*, *Flattened Image Size*). Shortcut option: you can use classes from the [TensorFlow Layers](https://www.tensorflow.org/api_docs/python/tf/layers) or [TensorFlow Layers (contrib)](https://www.tensorflow.org/api_guides/python/contrib.layers) packages for this layer. For more of a challenge, only use other TensorFlow packages."
   ]
  },
  {
   "cell_type": "code",
   "execution_count": 12,
   "metadata": {},
   "outputs": [
    {
     "name": "stdout",
     "output_type": "stream",
     "text": [
      "Tests Passed\n"
     ]
    }
   ],
   "source": [
    "def flatten(x_tensor):\n",
    "    \"\"\"\n",
    "    Flatten x_tensor to (Batch Size, Flattened Image Size)\n",
    "    : x_tensor: A tensor of size (Batch Size, ...), where ... are the image dimensions.\n",
    "    : return: A tensor of size (Batch Size, Flattened Image Size).\n",
    "    \"\"\"\n",
    "    # print(\"Tensor shape: \", x_tensor.shape)\n",
    "    batch_size = tf.shape(x_tensor)[0]\n",
    "    \n",
    "    #Converting the mult results to Tensor\n",
    "    flattened_image_size = tf.to_int32(x_tensor.shape[1] * x_tensor.shape[2] * x_tensor.shape[3])\n",
    "    \n",
    "    return tf.reshape(x_tensor, [batch_size, flattened_image_size])\n",
    "\n",
    "\n",
    "\"\"\"\n",
    "DON'T MODIFY ANYTHING IN THIS CELL THAT IS BELOW THIS LINE\n",
    "\"\"\"\n",
    "tests.test_flatten(flatten)"
   ]
  },
  {
   "cell_type": "markdown",
   "metadata": {},
   "source": [
    "### Fully-Connected Layer\n",
    "Implement the `fully_conn` function to apply a fully connected layer to `x_tensor` with the shape (*Batch Size*, *num_outputs*). Shortcut option: you can use classes from the [TensorFlow Layers](https://www.tensorflow.org/api_docs/python/tf/layers) or [TensorFlow Layers (contrib)](https://www.tensorflow.org/api_guides/python/contrib.layers) packages for this layer. For more of a challenge, only use other TensorFlow packages."
   ]
  },
  {
   "cell_type": "code",
   "execution_count": 13,
   "metadata": {},
   "outputs": [
    {
     "name": "stdout",
     "output_type": "stream",
     "text": [
      "Tests Passed\n"
     ]
    }
   ],
   "source": [
    "def fully_conn(x_tensor, num_outputs):\n",
    "    \"\"\"\n",
    "    Apply a fully connected layer to x_tensor using weight and bias\n",
    "    : x_tensor: A 2-D tensor where the first dimension is batch size.\n",
    "    : num_outputs: The number of output that the new tensor should be.\n",
    "    : return: A 2-D tensor where the second dimension is num_outputs.\n",
    "    \"\"\"\n",
    "    # print(x_tensor.shape)\n",
    "    x_shape_1 = x_tensor.shape.as_list()[1]\n",
    "    \n",
    "    weights_out = tf.Variable(tf.truncated_normal([x_shape_1, num_outputs], stddev=0.05))\n",
    "    bias_out = tf.Variable(tf.truncated_normal([num_outputs], stddev=0.05))\n",
    "    \n",
    "    fc1 = tf.reshape(x_tensor, [-1, x_shape_1])\n",
    "    fc1 = tf.add(tf.matmul(fc1, weights_out), bias_out)\n",
    "    fc1 = tf.nn.relu(fc1)\n",
    "    \n",
    "    return fc1\n",
    "\n",
    "\n",
    "\"\"\"\n",
    "DON'T MODIFY ANYTHING IN THIS CELL THAT IS BELOW THIS LINE\n",
    "\"\"\"\n",
    "tests.test_fully_conn(fully_conn)"
   ]
  },
  {
   "cell_type": "markdown",
   "metadata": {},
   "source": [
    "### Output Layer\n",
    "Implement the `output` function to apply a fully connected layer to `x_tensor` with the shape (*Batch Size*, *num_outputs*). Shortcut option: you can use classes from the [TensorFlow Layers](https://www.tensorflow.org/api_docs/python/tf/layers) or [TensorFlow Layers (contrib)](https://www.tensorflow.org/api_guides/python/contrib.layers) packages for this layer. For more of a challenge, only use other TensorFlow packages.\n",
    "\n",
    "**Note:** Activation, softmax, or cross entropy should **not** be applied to this."
   ]
  },
  {
   "cell_type": "code",
   "execution_count": 14,
   "metadata": {},
   "outputs": [
    {
     "name": "stdout",
     "output_type": "stream",
     "text": [
      "Tests Passed\n"
     ]
    }
   ],
   "source": [
    "def output(x_tensor, num_outputs):\n",
    "    \"\"\"\n",
    "    Apply a output layer to x_tensor using weight and bias\n",
    "    : x_tensor: A 2-D tensor where the first dimension is batch size.\n",
    "    : num_outputs: The number of output that the new tensor should be.\n",
    "    : return: A 2-D tensor where the second dimension is num_outputs.\n",
    "    \"\"\"\n",
    "    # print(x_tensor.shape)\n",
    "    x_shape_1 = x_tensor.shape.as_list()[1]\n",
    "    \n",
    "    weights_out = tf.Variable(tf.random_normal([x_shape_1, num_outputs]))\n",
    "    bias_out = tf.Variable(tf.random_normal([num_outputs]))\n",
    "    \n",
    "    out = tf.add(tf.matmul(x_tensor, weights_out), bias_out)\n",
    "    \n",
    "    return out\n",
    "\n",
    "\"\"\"\n",
    "DON'T MODIFY ANYTHING IN THIS CELL THAT IS BELOW THIS LINE\n",
    "\"\"\"\n",
    "tests.test_output(output)"
   ]
  },
  {
   "cell_type": "markdown",
   "metadata": {},
   "source": [
    "### Create Convolutional Model\n",
    "Implement the function `conv_net` to create a convolutional neural network model. The function takes in a batch of images, `x`, and outputs logits.  Use the layers you created above to create this model:\n",
    "\n",
    "* Apply 1, 2, or 3 Convolution and Max Pool layers\n",
    "* Apply a Flatten Layer\n",
    "* Apply 1, 2, or 3 Fully Connected Layers\n",
    "* Apply an Output Layer\n",
    "* Return the output\n",
    "* Apply [TensorFlow's Dropout](https://www.tensorflow.org/api_docs/python/tf/nn/dropout) to one or more layers in the model using `keep_prob`. "
   ]
  },
  {
   "cell_type": "code",
   "execution_count": 15,
   "metadata": {},
   "outputs": [
    {
     "name": "stdout",
     "output_type": "stream",
     "text": [
      "Tensor shape:  (?, 32, 32, 3)\n",
      "(?, 16, 16, 16)\n",
      "Tensor shape:  (?, 16, 16, 16)\n",
      "(?, 8, 8, 32)\n",
      "Tensor shape:  (?, 8, 8, 32)\n",
      "(?, 4, 4, 64)\n",
      "(?, 1024)\n",
      "(?, 256)\n",
      "(?, 128)\n",
      "(?, 64)\n",
      "(?, 10)\n",
      "Tensor shape:  (?, 32, 32, 3)\n",
      "(?, 16, 16, 16)\n",
      "Tensor shape:  (?, 16, 16, 16)\n",
      "(?, 8, 8, 32)\n",
      "Tensor shape:  (?, 8, 8, 32)\n",
      "(?, 4, 4, 64)\n",
      "(?, 1024)\n",
      "(?, 256)\n",
      "(?, 128)\n",
      "(?, 64)\n",
      "(?, 10)\n",
      "Neural Network Built!\n"
     ]
    }
   ],
   "source": [
    "def conv_net(x, keep_prob):\n",
    "    \"\"\"\n",
    "    Create a convolutional neural network model\n",
    "    : x: Placeholder tensor that holds image data.\n",
    "    : keep_prob: Placeholder tensor that hold dropout keep probability.\n",
    "    : return: Tensor that represents logits\n",
    "    \"\"\"\n",
    "    # TODO: Apply 1, 2, or 3 Convolution and Max Pool layers\n",
    "    #    Play around with different number of outputs, kernel size and stride\n",
    "    # Function Definition from Above:\n",
    "    num_outputs = 10\n",
    "    \n",
    "    conv1 = conv2d_maxpool(x, 16, (5, 5), (1, 1), (2, 2), (2, 2))\n",
    "    \n",
    "    print(conv1.shape)\n",
    "    \n",
    "    conv2 = conv2d_maxpool(conv1, 32, (3, 3), (1, 1), (2, 2), (2, 2))\n",
    "    print(conv2.shape)\n",
    "    \n",
    "    conv3 = conv2d_maxpool(conv2, 64, (3, 3), (1, 1), (2, 2), (2, 2))\n",
    "    \n",
    "    print(conv3.shape)\n",
    "    \n",
    "    # Applying flatten\n",
    "    flat1 = flatten(conv3)\n",
    "    \n",
    "    print(flat1.shape)\n",
    "\n",
    "    # Apply 1, 2, or 3 Fully Connected Layers\n",
    "    #fc0 = fully_conn(flat1, 512)\n",
    "    #fc0 = tf.nn.dropout(fc0, keep_prob)\n",
    "    \n",
    "    #print(fc0.shape)\n",
    "    \n",
    "    fc1 = fully_conn(flat1, 256)\n",
    "    fc1 = tf.nn.dropout(fc1, keep_prob)\n",
    "    \n",
    "    print(fc1.shape)\n",
    "    \n",
    "    fc2 = fully_conn(fc1, 128)\n",
    "    fc2 = tf.nn.dropout(fc2, keep_prob)\n",
    "    \n",
    "    print(fc2.shape)\n",
    "    \n",
    "    fc3 = fully_conn(fc2, 64)\n",
    "    fc3 = tf.nn.dropout(fc3, keep_prob)\n",
    "    \n",
    "    print(fc3.shape)\n",
    "    \n",
    "    # Apply an Output Layer\n",
    "    out = output(fc3, num_outputs)\n",
    "    \n",
    "    print(out.shape)\n",
    "    \n",
    "    return out\n",
    "\n",
    "\"\"\"\n",
    "DON'T MODIFY ANYTHING IN THIS CELL THAT IS BELOW THIS LINE\n",
    "\"\"\"\n",
    "\n",
    "##############################\n",
    "## Build the Neural Network ##\n",
    "##############################\n",
    "\n",
    "# Remove previous weights, bias, inputs, etc..\n",
    "tf.reset_default_graph()\n",
    "\n",
    "# Inputs\n",
    "x = neural_net_image_input((32, 32, 3))\n",
    "y = neural_net_label_input(10)\n",
    "keep_prob = neural_net_keep_prob_input()\n",
    "\n",
    "# Model\n",
    "logits = conv_net(x, keep_prob)\n",
    "\n",
    "# Name logits Tensor, so that is can be loaded from disk after training\n",
    "logits = tf.identity(logits, name='logits')\n",
    "\n",
    "# Loss and Optimizer\n",
    "cost = tf.reduce_mean(tf.nn.softmax_cross_entropy_with_logits(logits=logits, labels=y))\n",
    "optimizer = tf.train.AdamOptimizer().minimize(cost)\n",
    "\n",
    "# Accuracy\n",
    "correct_pred = tf.equal(tf.argmax(logits, 1), tf.argmax(y, 1))\n",
    "accuracy = tf.reduce_mean(tf.cast(correct_pred, tf.float32), name='accuracy')\n",
    "\n",
    "tests.test_conv_net(conv_net)"
   ]
  },
  {
   "cell_type": "markdown",
   "metadata": {},
   "source": [
    "## Train the Neural Network\n",
    "### Single Optimization\n",
    "Implement the function `train_neural_network` to do a single optimization.  The optimization should use `optimizer` to optimize in `session` with a `feed_dict` of the following:\n",
    "* `x` for image input\n",
    "* `y` for labels\n",
    "* `keep_prob` for keep probability for dropout\n",
    "\n",
    "This function will be called for each batch, so `tf.global_variables_initializer()` has already been called.\n",
    "\n",
    "Note: Nothing needs to be returned. This function is only optimizing the neural network."
   ]
  },
  {
   "cell_type": "code",
   "execution_count": 16,
   "metadata": {},
   "outputs": [
    {
     "name": "stdout",
     "output_type": "stream",
     "text": [
      "Tests Passed\n"
     ]
    }
   ],
   "source": [
    "def train_neural_network(session, optimizer, keep_probability, feature_batch, label_batch):\n",
    "    \"\"\"\n",
    "    Optimize the session on a batch of images and labels\n",
    "    : session: Current TensorFlow session\n",
    "    : optimizer: TensorFlow optimizer function\n",
    "    : keep_probability: keep probability\n",
    "    : feature_batch: Batch of Numpy image data\n",
    "    : label_batch: Batch of Numpy label data\n",
    "    \"\"\"\n",
    "    session.run(optimizer, feed_dict={x: feature_batch, y: label_batch, keep_prob: keep_probability})\n",
    "\n",
    "\n",
    "\"\"\"\n",
    "DON'T MODIFY ANYTHING IN THIS CELL THAT IS BELOW THIS LINE\n",
    "\"\"\"\n",
    "tests.test_train_nn(train_neural_network)"
   ]
  },
  {
   "cell_type": "markdown",
   "metadata": {},
   "source": [
    "### Show Stats\n",
    "Implement the function `print_stats` to print loss and validation accuracy.  Use the global variables `valid_features` and `valid_labels` to calculate validation accuracy.  Use a keep probability of `1.0` to calculate the loss and validation accuracy."
   ]
  },
  {
   "cell_type": "code",
   "execution_count": 17,
   "metadata": {},
   "outputs": [],
   "source": [
    "def print_stats(session, feature_batch, label_batch, cost, accuracy):\n",
    "    \"\"\"\n",
    "    Print information about loss and validation accuracy\n",
    "    : session: Current TensorFlow session\n",
    "    : feature_batch: Batch of Numpy image data\n",
    "    : label_batch: Batch of Numpy label data\n",
    "    : cost: TensorFlow cost function\n",
    "    : accuracy: TensorFlow accuracy function\n",
    "    \"\"\"\n",
    "    loss = session.run(cost, feed_dict={x: feature_batch, y:label_batch, keep_prob: 0.75})\n",
    "    acc = session.run(accuracy, feed_dict={x: feature_batch, y:label_batch, keep_prob: 0.75})\n",
    "    \n",
    "    print(\"Loss: {}, Accuracy: {}\".format(loss, acc))"
   ]
  },
  {
   "cell_type": "markdown",
   "metadata": {},
   "source": [
    "### Hyperparameters\n",
    "Tune the following parameters:\n",
    "* Set `epochs` to the number of iterations until the network stops learning or start overfitting\n",
    "* Set `batch_size` to the highest number that your machine has memory for.  Most people set them to common sizes of memory:\n",
    " * 64\n",
    " * 128\n",
    " * 256\n",
    " * ...\n",
    "* Set `keep_probability` to the probability of keeping a node using dropout"
   ]
  },
  {
   "cell_type": "code",
   "execution_count": 18,
   "metadata": {},
   "outputs": [],
   "source": [
    "# Tune Parameters\n",
    "epochs = 30\n",
    "batch_size = 256\n",
    "keep_probability = 0.75"
   ]
  },
  {
   "cell_type": "markdown",
   "metadata": {},
   "source": [
    "### Train on a Single CIFAR-10 Batch\n",
    "Instead of training the neural network on all the CIFAR-10 batches of data, let's use a single batch. This should save time while you iterate on the model to get a better accuracy.  Once the final validation accuracy is 50% or greater, run the model on all the data in the next section."
   ]
  },
  {
   "cell_type": "code",
   "execution_count": 19,
   "metadata": {},
   "outputs": [
    {
     "name": "stdout",
     "output_type": "stream",
     "text": [
      "Checking the Training on a Single Batch...\n",
      "Epoch  1, CIFAR-10 Batch 1:  Loss: 2.3655476570129395, Accuracy: 0.125\n",
      "Epoch  2, CIFAR-10 Batch 1:  Loss: 2.175642728805542, Accuracy: 0.10000000149011612\n",
      "Epoch  3, CIFAR-10 Batch 1:  Loss: 2.115431308746338, Accuracy: 0.20000000298023224\n",
      "Epoch  4, CIFAR-10 Batch 1:  Loss: 1.9733376502990723, Accuracy: 0.32499998807907104\n",
      "Epoch  5, CIFAR-10 Batch 1:  Loss: 1.928491234779358, Accuracy: 0.2750000059604645\n",
      "Epoch  6, CIFAR-10 Batch 1:  Loss: 1.8294140100479126, Accuracy: 0.20000000298023224\n",
      "Epoch  7, CIFAR-10 Batch 1:  Loss: 1.730564832687378, Accuracy: 0.30000001192092896\n",
      "Epoch  8, CIFAR-10 Batch 1:  Loss: 1.654963493347168, Accuracy: 0.32500001788139343\n",
      "Epoch  9, CIFAR-10 Batch 1:  Loss: 1.5477962493896484, Accuracy: 0.550000011920929\n",
      "Epoch 10, CIFAR-10 Batch 1:  Loss: 1.467006802558899, Accuracy: 0.45000001788139343\n",
      "Epoch 11, CIFAR-10 Batch 1:  Loss: 1.4028263092041016, Accuracy: 0.42500001192092896\n",
      "Epoch 12, CIFAR-10 Batch 1:  Loss: 1.3939419984817505, Accuracy: 0.5750000476837158\n",
      "Epoch 13, CIFAR-10 Batch 1:  Loss: 1.3636949062347412, Accuracy: 0.550000011920929\n",
      "Epoch 14, CIFAR-10 Batch 1:  Loss: 1.1384727954864502, Accuracy: 0.6000000238418579\n",
      "Epoch 15, CIFAR-10 Batch 1:  Loss: 1.2908575534820557, Accuracy: 0.6749999523162842\n",
      "Epoch 16, CIFAR-10 Batch 1:  Loss: 1.0358585119247437, Accuracy: 0.7000000476837158\n",
      "Epoch 17, CIFAR-10 Batch 1:  Loss: 1.0952715873718262, Accuracy: 0.7000000476837158\n",
      "Epoch 18, CIFAR-10 Batch 1:  Loss: 1.1404660940170288, Accuracy: 0.6000000238418579\n",
      "Epoch 19, CIFAR-10 Batch 1:  Loss: 0.8308042287826538, Accuracy: 0.8000000715255737\n",
      "Epoch 20, CIFAR-10 Batch 1:  Loss: 0.9434869289398193, Accuracy: 0.675000011920929\n",
      "Epoch 21, CIFAR-10 Batch 1:  Loss: 0.8255806565284729, Accuracy: 0.7250000238418579\n",
      "Epoch 22, CIFAR-10 Batch 1:  Loss: 0.8050175905227661, Accuracy: 0.800000011920929\n",
      "Epoch 23, CIFAR-10 Batch 1:  Loss: 0.6764137744903564, Accuracy: 0.9000000357627869\n",
      "Epoch 24, CIFAR-10 Batch 1:  Loss: 0.5428828001022339, Accuracy: 0.800000011920929\n",
      "Epoch 25, CIFAR-10 Batch 1:  Loss: 0.6186978816986084, Accuracy: 0.800000011920929\n",
      "Epoch 26, CIFAR-10 Batch 1:  Loss: 0.5820852518081665, Accuracy: 0.8500000238418579\n",
      "Epoch 27, CIFAR-10 Batch 1:  Loss: 0.5172790884971619, Accuracy: 0.8500000238418579\n",
      "Epoch 28, CIFAR-10 Batch 1:  Loss: 0.4408756494522095, Accuracy: 0.949999988079071\n",
      "Epoch 29, CIFAR-10 Batch 1:  Loss: 0.46324414014816284, Accuracy: 0.9000000357627869\n",
      "Epoch 30, CIFAR-10 Batch 1:  Loss: 0.5579667091369629, Accuracy: 0.875\n"
     ]
    }
   ],
   "source": [
    "\"\"\"\n",
    "DON'T MODIFY ANYTHING IN THIS CELL\n",
    "\"\"\"\n",
    "print('Checking the Training on a Single Batch...')\n",
    "with tf.Session() as sess:\n",
    "    # Initializing the variables\n",
    "    sess.run(tf.global_variables_initializer())\n",
    "    \n",
    "    # Training cycle\n",
    "    for epoch in range(epochs):\n",
    "        batch_i = 1\n",
    "        for batch_features, batch_labels in helper.load_preprocess_training_batch(batch_i, batch_size):\n",
    "            train_neural_network(sess, optimizer, keep_probability, batch_features, batch_labels)\n",
    "        print('Epoch {:>2}, CIFAR-10 Batch {}:  '.format(epoch + 1, batch_i), end='')\n",
    "        print_stats(sess, batch_features, batch_labels, cost, accuracy)"
   ]
  },
  {
   "cell_type": "markdown",
   "metadata": {},
   "source": [
    "### Fully Train the Model\n",
    "Now that you got a good accuracy with a single CIFAR-10 batch, try it with all five batches."
   ]
  },
  {
   "cell_type": "code",
   "execution_count": 20,
   "metadata": {},
   "outputs": [
    {
     "name": "stdout",
     "output_type": "stream",
     "text": [
      "Training...\n",
      "Epoch  1, CIFAR-10 Batch 1:  Loss: 2.3022689819335938, Accuracy: 0.10000000149011612\n",
      "Epoch  1, CIFAR-10 Batch 2:  Loss: 2.158859968185425, Accuracy: 0.2750000059604645\n",
      "Epoch  1, CIFAR-10 Batch 3:  Loss: 1.9364465475082397, Accuracy: 0.22500000894069672\n",
      "Epoch  1, CIFAR-10 Batch 4:  Loss: 2.1464667320251465, Accuracy: 0.30000001192092896\n",
      "Epoch  1, CIFAR-10 Batch 5:  Loss: 1.9339922666549683, Accuracy: 0.25\n",
      "Epoch  2, CIFAR-10 Batch 1:  Loss: 2.0230302810668945, Accuracy: 0.30000001192092896\n",
      "Epoch  2, CIFAR-10 Batch 2:  Loss: 1.8883249759674072, Accuracy: 0.3499999940395355\n",
      "Epoch  2, CIFAR-10 Batch 3:  Loss: 1.5672333240509033, Accuracy: 0.3500000238418579\n",
      "Epoch  2, CIFAR-10 Batch 4:  Loss: 1.7350432872772217, Accuracy: 0.42500001192092896\n",
      "Epoch  2, CIFAR-10 Batch 5:  Loss: 1.8525702953338623, Accuracy: 0.20000001788139343\n",
      "Epoch  3, CIFAR-10 Batch 1:  Loss: 1.777712345123291, Accuracy: 0.3750000298023224\n",
      "Epoch  3, CIFAR-10 Batch 2:  Loss: 1.630598545074463, Accuracy: 0.4000000059604645\n",
      "Epoch  3, CIFAR-10 Batch 3:  Loss: 1.3862043619155884, Accuracy: 0.4750000238418579\n",
      "Epoch  3, CIFAR-10 Batch 4:  Loss: 1.6231709718704224, Accuracy: 0.2750000059604645\n",
      "Epoch  3, CIFAR-10 Batch 5:  Loss: 1.6176588535308838, Accuracy: 0.20000000298023224\n",
      "Epoch  4, CIFAR-10 Batch 1:  Loss: 1.5392237901687622, Accuracy: 0.375\n",
      "Epoch  4, CIFAR-10 Batch 2:  Loss: 1.5982661247253418, Accuracy: 0.550000011920929\n",
      "Epoch  4, CIFAR-10 Batch 3:  Loss: 1.3918781280517578, Accuracy: 0.5\n",
      "Epoch  4, CIFAR-10 Batch 4:  Loss: 1.4902217388153076, Accuracy: 0.45000001788139343\n",
      "Epoch  4, CIFAR-10 Batch 5:  Loss: 1.708585500717163, Accuracy: 0.375\n",
      "Epoch  5, CIFAR-10 Batch 1:  Loss: 1.4054341316223145, Accuracy: 0.45000001788139343\n",
      "Epoch  5, CIFAR-10 Batch 2:  Loss: 1.3703452348709106, Accuracy: 0.550000011920929\n",
      "Epoch  5, CIFAR-10 Batch 3:  Loss: 1.1871607303619385, Accuracy: 0.5250000357627869\n",
      "Epoch  5, CIFAR-10 Batch 4:  Loss: 1.304339051246643, Accuracy: 0.45000001788139343\n",
      "Epoch  5, CIFAR-10 Batch 5:  Loss: 1.605959177017212, Accuracy: 0.44999998807907104\n",
      "Epoch  6, CIFAR-10 Batch 1:  Loss: 1.2813640832901, Accuracy: 0.47499996423721313\n",
      "Epoch  6, CIFAR-10 Batch 2:  Loss: 1.1861615180969238, Accuracy: 0.574999988079071\n",
      "Epoch  6, CIFAR-10 Batch 3:  Loss: 1.1790390014648438, Accuracy: 0.625\n",
      "Epoch  6, CIFAR-10 Batch 4:  Loss: 1.2756128311157227, Accuracy: 0.5\n",
      "Epoch  6, CIFAR-10 Batch 5:  Loss: 1.4118528366088867, Accuracy: 0.550000011920929\n",
      "Epoch  7, CIFAR-10 Batch 1:  Loss: 1.2338027954101562, Accuracy: 0.550000011920929\n",
      "Epoch  7, CIFAR-10 Batch 2:  Loss: 1.2247493267059326, Accuracy: 0.5250000357627869\n",
      "Epoch  7, CIFAR-10 Batch 3:  Loss: 1.0593039989471436, Accuracy: 0.625\n",
      "Epoch  7, CIFAR-10 Batch 4:  Loss: 1.3191765546798706, Accuracy: 0.42500001192092896\n",
      "Epoch  7, CIFAR-10 Batch 5:  Loss: 1.2950056791305542, Accuracy: 0.5250000357627869\n",
      "Epoch  8, CIFAR-10 Batch 1:  Loss: 1.0680227279663086, Accuracy: 0.6500000357627869\n",
      "Epoch  8, CIFAR-10 Batch 2:  Loss: 1.0030221939086914, Accuracy: 0.625\n",
      "Epoch  8, CIFAR-10 Batch 3:  Loss: 1.0736067295074463, Accuracy: 0.7250000238418579\n",
      "Epoch  8, CIFAR-10 Batch 4:  Loss: 1.1877213716506958, Accuracy: 0.6000000238418579\n",
      "Epoch  8, CIFAR-10 Batch 5:  Loss: 1.2604624032974243, Accuracy: 0.5750000476837158\n",
      "Epoch  9, CIFAR-10 Batch 1:  Loss: 0.9805856347084045, Accuracy: 0.6750000715255737\n",
      "Epoch  9, CIFAR-10 Batch 2:  Loss: 0.874550461769104, Accuracy: 0.6499999761581421\n",
      "Epoch  9, CIFAR-10 Batch 3:  Loss: 0.9971026182174683, Accuracy: 0.7000000476837158\n",
      "Epoch  9, CIFAR-10 Batch 4:  Loss: 1.1719697713851929, Accuracy: 0.5750000476837158\n",
      "Epoch  9, CIFAR-10 Batch 5:  Loss: 1.1338809728622437, Accuracy: 0.5750000476837158\n",
      "Epoch 10, CIFAR-10 Batch 1:  Loss: 0.9845418930053711, Accuracy: 0.7000000476837158\n",
      "Epoch 10, CIFAR-10 Batch 2:  Loss: 0.7077499628067017, Accuracy: 0.800000011920929\n",
      "Epoch 10, CIFAR-10 Batch 3:  Loss: 0.8307157754898071, Accuracy: 0.7749999761581421\n",
      "Epoch 10, CIFAR-10 Batch 4:  Loss: 1.00726318359375, Accuracy: 0.675000011920929\n",
      "Epoch 10, CIFAR-10 Batch 5:  Loss: 1.0724456310272217, Accuracy: 0.7000000476837158\n",
      "Epoch 11, CIFAR-10 Batch 1:  Loss: 0.9143723249435425, Accuracy: 0.6500000357627869\n",
      "Epoch 11, CIFAR-10 Batch 2:  Loss: 0.8320261240005493, Accuracy: 0.8750000596046448\n",
      "Epoch 11, CIFAR-10 Batch 3:  Loss: 0.8229789137840271, Accuracy: 0.8000000715255737\n",
      "Epoch 11, CIFAR-10 Batch 4:  Loss: 0.9017975330352783, Accuracy: 0.8000000715255737\n",
      "Epoch 11, CIFAR-10 Batch 5:  Loss: 1.0546555519104004, Accuracy: 0.625\n",
      "Epoch 12, CIFAR-10 Batch 1:  Loss: 0.7964627146720886, Accuracy: 0.6750000715255737\n",
      "Epoch 12, CIFAR-10 Batch 2:  Loss: 0.6730254888534546, Accuracy: 0.8750000596046448\n",
      "Epoch 12, CIFAR-10 Batch 3:  Loss: 0.713606059551239, Accuracy: 0.7749999761581421\n",
      "Epoch 12, CIFAR-10 Batch 4:  Loss: 0.9599215984344482, Accuracy: 0.699999988079071\n",
      "Epoch 12, CIFAR-10 Batch 5:  Loss: 0.9457834959030151, Accuracy: 0.7000000476837158\n",
      "Epoch 13, CIFAR-10 Batch 1:  Loss: 0.9660394191741943, Accuracy: 0.75\n",
      "Epoch 13, CIFAR-10 Batch 2:  Loss: 0.6719521880149841, Accuracy: 0.7999999523162842\n",
      "Epoch 13, CIFAR-10 Batch 3:  Loss: 0.6801838874816895, Accuracy: 0.7749999761581421\n",
      "Epoch 13, CIFAR-10 Batch 4:  Loss: 0.8290765285491943, Accuracy: 0.7250000238418579\n",
      "Epoch 13, CIFAR-10 Batch 5:  Loss: 0.8843700289726257, Accuracy: 0.7000000476837158\n",
      "Epoch 14, CIFAR-10 Batch 1:  Loss: 0.6911759376525879, Accuracy: 0.8000000715255737\n",
      "Epoch 14, CIFAR-10 Batch 2:  Loss: 0.6292193531990051, Accuracy: 0.8250000476837158\n",
      "Epoch 14, CIFAR-10 Batch 3:  Loss: 0.6113436222076416, Accuracy: 0.8000000715255737\n",
      "Epoch 14, CIFAR-10 Batch 4:  Loss: 0.7080729007720947, Accuracy: 0.7000000476837158\n",
      "Epoch 14, CIFAR-10 Batch 5:  Loss: 0.7611773610115051, Accuracy: 0.8250000476837158\n",
      "Epoch 15, CIFAR-10 Batch 1:  Loss: 0.5553303956985474, Accuracy: 0.8250000476837158\n",
      "Epoch 15, CIFAR-10 Batch 2:  Loss: 0.6316834688186646, Accuracy: 0.7750000357627869\n",
      "Epoch 15, CIFAR-10 Batch 3:  Loss: 0.6011812686920166, Accuracy: 0.7749999761581421\n",
      "Epoch 15, CIFAR-10 Batch 4:  Loss: 0.6693360805511475, Accuracy: 0.8500000238418579\n",
      "Epoch 15, CIFAR-10 Batch 5:  Loss: 0.754298985004425, Accuracy: 0.8250000476837158\n",
      "Epoch 16, CIFAR-10 Batch 1:  Loss: 0.5966262817382812, Accuracy: 0.8250000476837158\n",
      "Epoch 16, CIFAR-10 Batch 2:  Loss: 0.4559982120990753, Accuracy: 0.875\n",
      "Epoch 16, CIFAR-10 Batch 3:  Loss: 0.5825434923171997, Accuracy: 0.8000000715255737\n",
      "Epoch 16, CIFAR-10 Batch 4:  Loss: 0.5266993641853333, Accuracy: 0.824999988079071\n",
      "Epoch 16, CIFAR-10 Batch 5:  Loss: 0.63236004114151, Accuracy: 0.7750000357627869\n",
      "Epoch 17, CIFAR-10 Batch 1:  Loss: 0.6892552375793457, Accuracy: 0.8250000476837158\n",
      "Epoch 17, CIFAR-10 Batch 2:  Loss: 0.5673794746398926, Accuracy: 0.8250000476837158\n",
      "Epoch 17, CIFAR-10 Batch 3:  Loss: 0.511734664440155, Accuracy: 0.8250000476837158\n",
      "Epoch 17, CIFAR-10 Batch 4:  Loss: 0.5695204734802246, Accuracy: 0.8250000476837158\n",
      "Epoch 17, CIFAR-10 Batch 5:  Loss: 0.7622571587562561, Accuracy: 0.8250000476837158\n",
      "Epoch 18, CIFAR-10 Batch 1:  Loss: 0.5413094162940979, Accuracy: 0.8250000476837158\n",
      "Epoch 18, CIFAR-10 Batch 2:  Loss: 0.44249680638313293, Accuracy: 0.9000000357627869\n",
      "Epoch 18, CIFAR-10 Batch 3:  Loss: 0.514167308807373, Accuracy: 0.8250000476837158\n",
      "Epoch 18, CIFAR-10 Batch 4:  Loss: 0.5633293390274048, Accuracy: 0.925000011920929\n",
      "Epoch 18, CIFAR-10 Batch 5:  Loss: 0.5891520977020264, Accuracy: 0.8750000596046448\n",
      "Epoch 19, CIFAR-10 Batch 1:  Loss: 0.5176061391830444, Accuracy: 0.7749999761581421\n",
      "Epoch 19, CIFAR-10 Batch 2:  Loss: 0.44184988737106323, Accuracy: 0.8250000476837158\n",
      "Epoch 19, CIFAR-10 Batch 3:  Loss: 0.5032251477241516, Accuracy: 0.9000000357627869\n",
      "Epoch 19, CIFAR-10 Batch 4:  Loss: 0.5313995480537415, Accuracy: 0.9000000357627869\n",
      "Epoch 19, CIFAR-10 Batch 5:  Loss: 0.5720756649971008, Accuracy: 0.875\n",
      "Epoch 20, CIFAR-10 Batch 1:  Loss: 0.528972864151001, Accuracy: 0.925000011920929\n",
      "Epoch 20, CIFAR-10 Batch 2:  Loss: 0.43383437395095825, Accuracy: 0.9000000357627869\n",
      "Epoch 20, CIFAR-10 Batch 3:  Loss: 0.46755731105804443, Accuracy: 0.7749999761581421\n",
      "Epoch 20, CIFAR-10 Batch 4:  Loss: 0.5150560140609741, Accuracy: 0.8499999642372131\n",
      "Epoch 20, CIFAR-10 Batch 5:  Loss: 0.4906826317310333, Accuracy: 0.9000000357627869\n"
     ]
    },
    {
     "name": "stdout",
     "output_type": "stream",
     "text": [
      "Epoch 21, CIFAR-10 Batch 1:  Loss: 0.4912019968032837, Accuracy: 0.8250000476837158\n",
      "Epoch 21, CIFAR-10 Batch 2:  Loss: 0.4214974641799927, Accuracy: 0.925000011920929\n",
      "Epoch 21, CIFAR-10 Batch 3:  Loss: 0.3761361241340637, Accuracy: 0.8750000596046448\n",
      "Epoch 21, CIFAR-10 Batch 4:  Loss: 0.5200353860855103, Accuracy: 0.8750000596046448\n",
      "Epoch 21, CIFAR-10 Batch 5:  Loss: 0.5072189569473267, Accuracy: 0.8250000476837158\n",
      "Epoch 22, CIFAR-10 Batch 1:  Loss: 0.4607381522655487, Accuracy: 0.8750000596046448\n",
      "Epoch 22, CIFAR-10 Batch 2:  Loss: 0.46438702940940857, Accuracy: 0.8750000596046448\n",
      "Epoch 22, CIFAR-10 Batch 3:  Loss: 0.44823387265205383, Accuracy: 0.8500000238418579\n",
      "Epoch 22, CIFAR-10 Batch 4:  Loss: 0.42698344588279724, Accuracy: 0.875\n",
      "Epoch 22, CIFAR-10 Batch 5:  Loss: 0.4802204370498657, Accuracy: 0.800000011920929\n",
      "Epoch 23, CIFAR-10 Batch 1:  Loss: 0.47177788615226746, Accuracy: 0.9000000357627869\n",
      "Epoch 23, CIFAR-10 Batch 2:  Loss: 0.4609623849391937, Accuracy: 0.8750000596046448\n",
      "Epoch 23, CIFAR-10 Batch 3:  Loss: 0.39283087849617004, Accuracy: 0.8500000834465027\n",
      "Epoch 23, CIFAR-10 Batch 4:  Loss: 0.48405104875564575, Accuracy: 0.949999988079071\n",
      "Epoch 23, CIFAR-10 Batch 5:  Loss: 0.5306613445281982, Accuracy: 0.9000000357627869\n",
      "Epoch 24, CIFAR-10 Batch 1:  Loss: 0.4247018098831177, Accuracy: 0.9000000357627869\n",
      "Epoch 24, CIFAR-10 Batch 2:  Loss: 0.40470021963119507, Accuracy: 0.8750000596046448\n",
      "Epoch 24, CIFAR-10 Batch 3:  Loss: 0.42028945684432983, Accuracy: 0.8750000596046448\n",
      "Epoch 24, CIFAR-10 Batch 4:  Loss: 0.44742560386657715, Accuracy: 0.9000000357627869\n",
      "Epoch 24, CIFAR-10 Batch 5:  Loss: 0.6080741286277771, Accuracy: 0.875\n",
      "Epoch 25, CIFAR-10 Batch 1:  Loss: 0.34826764464378357, Accuracy: 0.9000000357627869\n",
      "Epoch 25, CIFAR-10 Batch 2:  Loss: 0.3454069495201111, Accuracy: 0.8750000596046448\n",
      "Epoch 25, CIFAR-10 Batch 3:  Loss: 0.3757132291793823, Accuracy: 0.9249999523162842\n",
      "Epoch 25, CIFAR-10 Batch 4:  Loss: 0.4056454598903656, Accuracy: 0.925000011920929\n",
      "Epoch 25, CIFAR-10 Batch 5:  Loss: 0.39927780628204346, Accuracy: 0.925000011920929\n",
      "Epoch 26, CIFAR-10 Batch 1:  Loss: 0.3643656075000763, Accuracy: 0.925000011920929\n",
      "Epoch 26, CIFAR-10 Batch 2:  Loss: 0.4213956892490387, Accuracy: 0.9000000357627869\n",
      "Epoch 26, CIFAR-10 Batch 3:  Loss: 0.4576954245567322, Accuracy: 0.925000011920929\n",
      "Epoch 26, CIFAR-10 Batch 4:  Loss: 0.48523008823394775, Accuracy: 0.925000011920929\n",
      "Epoch 26, CIFAR-10 Batch 5:  Loss: 0.4669901430606842, Accuracy: 0.925000011920929\n",
      "Epoch 27, CIFAR-10 Batch 1:  Loss: 0.40180104970932007, Accuracy: 0.9000000357627869\n",
      "Epoch 27, CIFAR-10 Batch 2:  Loss: 0.3441334068775177, Accuracy: 0.8750000596046448\n",
      "Epoch 27, CIFAR-10 Batch 3:  Loss: 0.34276992082595825, Accuracy: 0.8750000596046448\n",
      "Epoch 27, CIFAR-10 Batch 4:  Loss: 0.3033832013607025, Accuracy: 0.8500000238418579\n",
      "Epoch 27, CIFAR-10 Batch 5:  Loss: 0.4540872573852539, Accuracy: 0.9000000357627869\n",
      "Epoch 28, CIFAR-10 Batch 1:  Loss: 0.3175351023674011, Accuracy: 0.925000011920929\n",
      "Epoch 28, CIFAR-10 Batch 2:  Loss: 0.30834436416625977, Accuracy: 0.925000011920929\n",
      "Epoch 28, CIFAR-10 Batch 3:  Loss: 0.4456613063812256, Accuracy: 0.925000011920929\n",
      "Epoch 28, CIFAR-10 Batch 4:  Loss: 0.29170113801956177, Accuracy: 0.949999988079071\n",
      "Epoch 28, CIFAR-10 Batch 5:  Loss: 0.32267898321151733, Accuracy: 0.925000011920929\n",
      "Epoch 29, CIFAR-10 Batch 1:  Loss: 0.281543105840683, Accuracy: 0.949999988079071\n",
      "Epoch 29, CIFAR-10 Batch 2:  Loss: 0.4040928781032562, Accuracy: 0.925000011920929\n",
      "Epoch 29, CIFAR-10 Batch 3:  Loss: 0.2860909104347229, Accuracy: 0.9750000238418579\n",
      "Epoch 29, CIFAR-10 Batch 4:  Loss: 0.4410361647605896, Accuracy: 0.949999988079071\n",
      "Epoch 29, CIFAR-10 Batch 5:  Loss: 0.3447975218296051, Accuracy: 0.9000000357627869\n",
      "Epoch 30, CIFAR-10 Batch 1:  Loss: 0.3287550210952759, Accuracy: 0.949999988079071\n",
      "Epoch 30, CIFAR-10 Batch 2:  Loss: 0.2341301143169403, Accuracy: 0.949999988079071\n",
      "Epoch 30, CIFAR-10 Batch 3:  Loss: 0.26675981283187866, Accuracy: 0.9749999642372131\n",
      "Epoch 30, CIFAR-10 Batch 4:  Loss: 0.32053226232528687, Accuracy: 0.949999988079071\n",
      "Epoch 30, CIFAR-10 Batch 5:  Loss: 0.5022907257080078, Accuracy: 0.925000011920929\n"
     ]
    }
   ],
   "source": [
    "\"\"\"\n",
    "DON'T MODIFY ANYTHING IN THIS CELL\n",
    "\"\"\"\n",
    "save_model_path = './image_classification'\n",
    "\n",
    "print('Training...')\n",
    "with tf.Session() as sess:\n",
    "    # Initializing the variables\n",
    "    sess.run(tf.global_variables_initializer())\n",
    "    \n",
    "    # Training cycle\n",
    "    for epoch in range(epochs):\n",
    "        # Loop over all batches\n",
    "        n_batches = 5\n",
    "        for batch_i in range(1, n_batches + 1):\n",
    "            for batch_features, batch_labels in helper.load_preprocess_training_batch(batch_i, batch_size):\n",
    "                train_neural_network(sess, optimizer, keep_probability, batch_features, batch_labels)\n",
    "            print('Epoch {:>2}, CIFAR-10 Batch {}:  '.format(epoch + 1, batch_i), end='')\n",
    "            print_stats(sess, batch_features, batch_labels, cost, accuracy)\n",
    "            \n",
    "    # Save Model\n",
    "    saver = tf.train.Saver()\n",
    "    save_path = saver.save(sess, save_model_path)"
   ]
  },
  {
   "cell_type": "markdown",
   "metadata": {},
   "source": [
    "# Checkpoint\n",
    "The model has been saved to disk.\n",
    "## Test Model\n",
    "Test your model against the test dataset.  This will be your final accuracy. You should have an accuracy greater than 50%. If you don't, keep tweaking the model architecture and parameters."
   ]
  },
  {
   "cell_type": "code",
   "execution_count": 21,
   "metadata": {},
   "outputs": [
    {
     "name": "stdout",
     "output_type": "stream",
     "text": [
      "Testing Accuracy: 0.55615234375\n",
      "\n"
     ]
    },
    {
     "data": {
      "image/png": "[encoded data removed]",
      "text/plain": [
       "<matplotlib.figure.Figure at 0x7f997a2dbd30>"
      ]
     },
     "metadata": {
      "image/png": {
       "height": 319,
       "width": 355
      }
     },
     "output_type": "display_data"
    }
   ],
   "source": [
    "\"\"\"\n",
    "DON'T MODIFY ANYTHING IN THIS CELL\n",
    "\"\"\"\n",
    "%matplotlib inline\n",
    "%config InlineBackend.figure_format = 'retina'\n",
    "\n",
    "import tensorflow as tf\n",
    "import pickle\n",
    "import helper\n",
    "import random\n",
    "\n",
    "# Set batch size if not already set\n",
    "try:\n",
    "    if batch_size:\n",
    "        pass\n",
    "except NameError:\n",
    "    batch_size = 64\n",
    "\n",
    "save_model_path = './image_classification'\n",
    "n_samples = 4\n",
    "top_n_predictions = 3\n",
    "\n",
    "def test_model():\n",
    "    \"\"\"\n",
    "    Test the saved model against the test dataset\n",
    "    \"\"\"\n",
    "\n",
    "    test_features, test_labels = pickle.load(open('preprocess_test.p', mode='rb'))\n",
    "    loaded_graph = tf.Graph()\n",
    "\n",
    "    with tf.Session(graph=loaded_graph) as sess:\n",
    "        # Load model\n",
    "        loader = tf.train.import_meta_graph(save_model_path + '.meta')\n",
    "        loader.restore(sess, save_model_path)\n",
    "\n",
    "        # Get Tensors from loaded model\n",
    "        loaded_x = loaded_graph.get_tensor_by_name('x:0')\n",
    "        loaded_y = loaded_graph.get_tensor_by_name('y:0')\n",
    "        loaded_keep_prob = loaded_graph.get_tensor_by_name('keep_prob:0')\n",
    "        loaded_logits = loaded_graph.get_tensor_by_name('logits:0')\n",
    "        loaded_acc = loaded_graph.get_tensor_by_name('accuracy:0')\n",
    "        \n",
    "        # Get accuracy in batches for memory limitations\n",
    "        test_batch_acc_total = 0\n",
    "        test_batch_count = 0\n",
    "        \n",
    "        for test_feature_batch, test_label_batch in helper.batch_features_labels(test_features, test_labels, batch_size):\n",
    "            test_batch_acc_total += sess.run(\n",
    "                loaded_acc,\n",
    "                feed_dict={loaded_x: test_feature_batch, loaded_y: test_label_batch, loaded_keep_prob: 1.0})\n",
    "            test_batch_count += 1\n",
    "\n",
    "        print('Testing Accuracy: {}\\n'.format(test_batch_acc_total/test_batch_count))\n",
    "\n",
    "        # Print Random Samples\n",
    "        random_test_features, random_test_labels = tuple(zip(*random.sample(list(zip(test_features, test_labels)), n_samples)))\n",
    "        random_test_predictions = sess.run(\n",
    "            tf.nn.top_k(tf.nn.softmax(loaded_logits), top_n_predictions),\n",
    "            feed_dict={loaded_x: random_test_features, loaded_y: random_test_labels, loaded_keep_prob: 1.0})\n",
    "        helper.display_image_predictions(random_test_features, random_test_labels, random_test_predictions)\n",
    "\n",
    "\n",
    "test_model()"
   ]
  },
  {
   "cell_type": "markdown",
   "metadata": {},
   "source": [
    "## Why 50-80% Accuracy?\n",
    "You might be wondering why you can't get an accuracy any higher. First things first, 50% isn't bad for a simple CNN.  Pure guessing would get you 10% accuracy. However, you might notice people are getting scores [well above 80%](http://rodrigob.github.io/are_we_there_yet/build/classification_datasets_results.html#43494641522d3130).  That's because we haven't taught you all there is to know about neural networks. We still need to cover a few more techniques.\n",
    "## Submitting This Project\n",
    "When submitting this project, make sure to run all the cells before saving the notebook.  Save the notebook file as \"dlnd_image_classification.ipynb\" and save it as a HTML file under \"File\" -> \"Download as\".  Include the \"helper.py\" and \"problem_unittests.py\" files in your submission."
   ]
  },
  {
   "cell_type": "code",
   "execution_count": null,
   "metadata": {
    "collapsed": true
   },
   "outputs": [],
   "source": []
  }
 ],
 "metadata": {
  "kernelspec": {
   "display_name": "Python 3",
   "language": "python",
   "name": "python3"
  },
  "language_info": {
   "codemirror_mode": {
    "name": "ipython",
    "version": 3
   },
   "file_extension": ".py",
   "mimetype": "text/x-python",
   "name": "python",
   "nbconvert_exporter": "python",
   "pygments_lexer": "ipython3",
   "version": "3.6.1"
  }
 },
 "nbformat": 4,
 "nbformat_minor": 1
}
